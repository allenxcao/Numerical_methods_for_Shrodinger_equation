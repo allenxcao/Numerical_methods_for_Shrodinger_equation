{
 "cells": [
  {
   "cell_type": "markdown",
   "metadata": {},
   "source": [
    "# The  1D Time-Dependent Schrodinger Equation"
   ]
  },
  {
   "cell_type": "markdown",
   "metadata": {},
   "source": [
    "The Time Dependent Schrodinger Equation with the homogeneous Dirichlet boundary is \n",
    "\n",
    "$$ i \\hbar \\frac{\\partial}{\\partial t} \\psi(x,t) = -\\frac{\\hbar^2}{2m}\\frac{\\partial^2}{\\partial x^2}\\psi(x,t) + V(x) \\psi(x,t) \\hspace{20mm} \\psi(0, t) = \\psi(L,t)=0 $$ "
   ]
  },
  {
   "cell_type": "markdown",
   "metadata": {},
   "source": [
    "##  Finite Difference"
   ]
  },
  {
   "cell_type": "markdown",
   "metadata": {},
   "source": [
    "Choose a discrete grid with spacing $\\Delta x$ and $\\Delta t$ and let $\\psi_j^{m} = \\psi(j\\Delta x, m\\Delta t)$"
   ]
  },
  {
   "cell_type": "markdown",
   "metadata": {},
   "source": [
    "$$i\\frac{\\psi_{j}^{m+1} - \\psi_{j}^{m}}{\\Delta t} = - \\frac{1}{2m}\\frac{\\psi_{j+1}^{m} -2\\psi_j^m + \\psi_{j-1}^{m}}{\\Delta x^2} +\\frac{1}{\\hbar}V(x)\\psi_j^m$$ "
   ]
  },
  {
   "cell_type": "markdown",
   "metadata": {},
   "source": [
    "Rearrange the equation"
   ]
  },
  {
   "cell_type": "markdown",
   "metadata": {},
   "source": [
    "$$\\psi_{j}^{m+1} = \\psi_j^m + \\frac{i}{2m}\\frac{\\Delta t}{\\Delta x^2}\\left(\\psi_{j+1}^{m} -2\\psi_j^m + \\psi_{j-1}^{m}\\right) - \\frac{i}{\\hbar} \\Delta tV(x)\\psi_j^m$$ "
   ]
  },
  {
   "cell_type": "markdown",
   "metadata": {},
   "source": [
    "## Numerical implementation"
   ]
  },
  {
   "cell_type": "markdown",
   "metadata": {},
   "source": [
    "Define all parameters of interest."
   ]
  },
  {
   "cell_type": "code",
   "execution_count": 37,
   "metadata": {},
   "outputs": [],
   "source": [
    "import time\n",
    "import math\n",
    "import numpy as np\n",
    "import matplotlib.pyplot as plt\n",
    "import matplotlib.animation as animation\n",
    "import scipy.constants as constants\n",
    "import matplotlib as mpl\n",
    "import numba\n",
    "from numba import jit\n",
    "\n",
    "\n",
    "\n",
    "\n",
    "\n"
   ]
  },
  {
   "cell_type": "code",
   "execution_count": 30,
   "metadata": {},
   "outputs": [
    {
     "name": "stdout",
     "output_type": "stream",
     "text": [
      "9.1093837015e-31\n",
      "1.0545718176461565e-34\n"
     ]
    }
   ],
   "source": [
    "# parameters setting\n",
    "para_setting = {\n",
    "  'k': 6e9,\n",
    "  'std_dev': 9e-10,\n",
    "  'x_0': -1.5e-8,\n",
    "  'm': constants.m_e,\n",
    "\n",
    "\n",
    "  # bounds of simulation\n",
    "  'bounds': [-2e-8, 2e-8],\n",
    "\n",
    "\n",
    "  # number of space steps\n",
    "  'grid_number': 800,\n",
    "\n",
    "\n",
    "  # time step for simulation\n",
    "  'delta_t': 5e-54,\n",
    "\n",
    "\n",
    "  # simulation time\n",
    "  'real_time': 3e-48,\n",
    "\n",
    "\n",
    "  # animation settings\n",
    "  'fps': 30,\n",
    "  'anim_duration': 15,\n",
    "\n",
    "  # potential function\n",
    "  'pot_func': lambda x: 0,\n",
    "}\n",
    "\n",
    "print( para_setting['m'])\n",
    "print(constants.hbar)"
   ]
  },
  {
   "cell_type": "code",
   "execution_count": 39,
   "metadata": {},
   "outputs": [],
   "source": [
    "def init_setting(para_setting):\n",
    "    hbar = constants.hbar\n",
    "    m = para_setting['m']\n",
    "\n",
    "    # initial wave packet conditions\n",
    "    k = para_setting['k']\n",
    "    std_dev = para_setting['std_dev']\n",
    "    x_0 = para_setting['x_0']\n",
    "\n",
    "    # initialization conditions for field\n",
    "    bounds = para_setting['bounds']\n",
    "    grid_number = para_setting['grid_number']\n",
    "\n",
    "    # potential\n",
    "    pot_func = para_setting['pot_func']\n",
    "    V = [pot_func(x) for x in np.linspace(bounds[0], bounds[1], grid_number)]\n",
    "    V = np.array(V)\n",
    "\n",
    "    # delta x and delta t for finite difference method\n",
    "    delta_x = abs(bounds[1] - bounds[0]) / (grid_number - 1)\n",
    "    delta_t = para_setting['delta_t']\n",
    "\n",
    "    real_time = para_setting['real_time']\n",
    "    def normalize(psi):\n",
    "        I = np.sum(np.abs(psi)**2 * delta_x)\n",
    "        res = psi / (I**0.5)\n",
    "        return res\n",
    "    def initial_condition(x):\n",
    "        return normalize(np.exp(1j * k * x) * np.exp(-0.5 * ((x - x_0) / std_dev)**2))\n",
    "    \n",
    "    psi_initial = initial_condition(np.linspace(bounds[0], bounds[1], grid_number))\n",
    "    return V,delta_x,delta_t,real_time,psi_initial,grid_number,m,hbar,bounds\n",
    "\n",
    "# normalize such that the wave function amplitude squared is a valid PDF\n",
    "\n"
   ]
  },
  {
   "cell_type": "code",
   "execution_count": 40,
   "metadata": {},
   "outputs": [],
   "source": [
    "para_setting_barrier = para_setting.copy()\n",
    "para_setting_barrier['pot_func'] = lambda x: 1e17 if 0 < x < 2.5e-9 else 0\n",
    "para_setting_barrier['x_0'] = -1e-8\n",
    "para_setting_barrier['real_time'] = 4e-48\n",
    "\n",
    "V,delta_x,delta_t,real_time,psi_initial,grid_number,m,hbar,bounds = init_setting(para_setting_barrier)\n",
    " \n",
    "\n",
    "\n",
    "time_steps = int(real_time / delta_t)\n",
    "psi = psi_initial\n",
    "\n",
    " "
   ]
  },
  {
   "cell_type": "code",
   "execution_count": 41,
   "metadata": {},
   "outputs": [],
   "source": [
    "@numba.jit(\"c16[:](c16[:])\", nopython=True, nogil=True)\n",
    "def FDM_compute(psi):\n",
    "    for t in range(0, time_steps-1):\n",
    "        res = np.zeros_like(psi)\n",
    "        for n in range(1, grid_number-1):\n",
    "            res[n] = psi[n]+((1j)/(2*m))*(delta_t/(delta_x**2))*(psi[n + 1]-2*psi[n]+psi[n - 1])-(1j/hbar)*delta_t*V[n]*psi[n]\n",
    " \n",
    "        normal = np.sum(np.absolute(res)**2)*delta_x\n",
    " \n",
    "        psi = res/np.sqrt(normal)\n",
    "        \n",
    "    return psi "
   ]
  },
  {
   "cell_type": "code",
   "execution_count": 42,
   "metadata": {},
   "outputs": [
    {
     "name": "stdout",
     "output_type": "stream",
     "text": [
      "23.95838499069214\n"
     ]
    }
   ],
   "source": [
    "start = time.time()\n",
    "psi = FDM_compute(psi)\n",
    " \n",
    "end = time.time()\n",
    "print(end-start)"
   ]
  },
  {
   "cell_type": "code",
   "execution_count": 43,
   "metadata": {},
   "outputs": [
    {
     "data": {
      "image/png": "[encoded data removed]",
      "text/plain": [
       "<Figure size 432x288 with 1 Axes>"
      ]
     },
     "metadata": {
      "needs_background": "light"
     },
     "output_type": "display_data"
    }
   ],
   "source": [
    "x = np.linspace(bounds[0], bounds[1], grid_number)\n",
    "pot_func_values = [para_setting_barrier['pot_func'](xi) for xi in x]\n",
    "plt.plot(x, np.absolute(psi)**2)\n",
    "plt.plot(x,pot_func_values)\n",
    "plt.ylim(0, max(np.absolute(psi)**2)*1.5)\n",
    "plt.show()"
   ]
  },
  {
   "cell_type": "markdown",
   "metadata": {},
   "source": [
    "## Make video \n",
    "#### to generate the video, we non-dimensionlize the equation"
   ]
  },
  {
   "cell_type": "code",
   "execution_count": 11,
   "metadata": {},
   "outputs": [],
   "source": [
    "import time\n",
    "import math\n",
    "import numpy as np\n",
    "import matplotlib.pyplot as plt\n",
    "# import matplotlib.animation as animation\n",
    "import scipy.constants as constants\n",
    "import matplotlib as mpl\n",
    "import numba\n",
    "from numba import jit\n",
    "from matplotlib import animation\n",
    "from matplotlib.animation import PillowWriter\n",
    "from scipy.linalg import eigh_tridiagonal\n"
   ]
  },
  {
   "cell_type": "code",
   "execution_count": 12,
   "metadata": {},
   "outputs": [],
   "source": [
    "# parameters setting\n",
    "para_setting = {\n",
    "  'k': 6e9,\n",
    "  'std_dev': 9e-10,\n",
    "  'x_0': -1.5e-8,\n",
    "  'm': constants.m_e,\n",
    "\n",
    "\n",
    "  # bounds of simulation\n",
    "  'bounds': [-2e-8, 2e-8],\n",
    "\n",
    "\n",
    "  # number of space steps\n",
    "  'grid_number': 300,\n",
    "\n",
    "\n",
    "  # time step for simulation\n",
    "  'delta_t': 5e-54,\n",
    "\n",
    "\n",
    "  # simulation time\n",
    "  'real_time': 3e-48,\n",
    "\n",
    "\n",
    "  # animation settings\n",
    "  'fps': 30,\n",
    "  'anim_duration': 15,\n",
    "\n",
    "  # potential function\n",
    "  'pot_func': lambda x: 0,\n",
    "}"
   ]
  },
  {
   "cell_type": "code",
   "execution_count": 13,
   "metadata": {},
   "outputs": [],
   "source": [
    "def init_setting(para_setting):\n",
    "    hbar = constants.hbar\n",
    "    m = para_setting['m']\n",
    "\n",
    "    # initial wave packet conditions\n",
    "    k = para_setting['k']\n",
    "    std_dev = para_setting['std_dev']\n",
    "    x_0 = para_setting['x_0']\n",
    "\n",
    "    # initialization conditions for field\n",
    "    bounds = para_setting['bounds']\n",
    "    grid_number = para_setting['grid_number']\n",
    "\n",
    "    # potential\n",
    "    pot_func = para_setting['pot_func']\n",
    "    V = [pot_func(x) for x in np.linspace(bounds[0], bounds[1], grid_number)]\n",
    "    V = np.array(V)\n",
    "\n",
    "    # delta x and delta t for finite difference method\n",
    "    delta_x = abs(bounds[1] - bounds[0]) / (grid_number - 1)\n",
    "    delta_t = para_setting['delta_t']\n",
    "\n",
    "    real_time = para_setting['real_time']\n",
    "    def normalize(psi):\n",
    "        I = np.sum(np.abs(psi)**2 * delta_x)\n",
    "        res = psi / (I**0.5)\n",
    "        return res\n",
    "    def initial_condition(x):\n",
    "        return normalize(np.exp(1j * k * x) * np.exp(-0.5 * ((x - x_0) / std_dev)**2))\n",
    "    \n",
    "    psi_initial = initial_condition(np.linspace(bounds[0], bounds[1], grid_number))\n",
    "    return V,delta_x,delta_t,real_time,psi_initial,grid_number,m,hbar,bounds\n",
    "\n",
    "# normalize such that the wave function amplitude squared is a valid PDF\n",
    "\n"
   ]
  },
  {
   "cell_type": "code",
   "execution_count": 14,
   "metadata": {},
   "outputs": [],
   "source": [
    "para_setting_barrier = para_setting.copy()\n",
    "para_setting_barrier['pot_func'] = lambda x: 1e17 if 0 < x < 2.5e-9 else 0\n",
    "para_setting_barrier['x_0'] = -1e-8\n",
    "para_setting_barrier['real_time'] = 4e-48/8\n",
    "\n",
    "V,delta_x,delta_t,real_time,psi_initial,grid_number,m,hbar,bounds = init_setting(para_setting_barrier)\n",
    " \n",
    "\n",
    "\n",
    "time_steps = int(real_time / delta_t)\n",
    "\n",
    "psi = np.zeros([time_steps,grid_number],dtype=np.complex128)\n",
    "psi[0] = psi_initial\n",
    "\n",
    " "
   ]
  },
  {
   "cell_type": "code",
   "execution_count": 15,
   "metadata": {},
   "outputs": [],
   "source": [
    "@numba.jit(\"c16[:, :](c16[:, :])\", nopython=True, nogil=True)\n",
    "def FDM_compute(psi):\n",
    "    for t in range(0, time_steps-1):\n",
    "        for n in range(1, grid_number-1):\n",
    "            psi[t+1][n] = psi[t][n]+((1j)/(2*m))*(delta_t/delta_x**2)*(psi[t][n + 1] - 2 * psi[t][n] + psi[t][n - 1]) -(1j / hbar) * delta_t * V[n] * psi[t][n]\n",
    "        \n",
    "        normal = np.sum(np.absolute(psi[t+1])**2)*delta_x\n",
    "        for n in range(1, grid_number-1):\n",
    "            psi[t+1][n] = psi[t+1][n]/np.sqrt(normal)\n",
    "        \n",
    "    return psi\n",
    "    \n",
    "\n",
    " \n",
    "\n",
    " \n"
   ]
  },
  {
   "cell_type": "code",
   "execution_count": 16,
   "metadata": {},
   "outputs": [
    {
     "name": "stdout",
     "output_type": "stream",
     "text": [
      "0.9598665237426758\n"
     ]
    }
   ],
   "source": [
    "start = time.time()\n",
    "psi = FDM_compute(psi)\n",
    " \n",
    "end = time.time()\n",
    "print(end-start)"
   ]
  },
  {
   "cell_type": "code",
   "execution_count": 17,
   "metadata": {},
   "outputs": [
    {
     "data": {
      "image/png": "[encoded data removed]",
      "text/plain": [
       "<Figure size 432x288 with 1 Axes>"
      ]
     },
     "metadata": {
      "needs_background": "light"
     },
     "output_type": "display_data"
    }
   ],
   "source": [
    "x = np.linspace(bounds[0], bounds[1], grid_number)\n",
    "pot_func_values = [para_setting_barrier['pot_func'](xi) for xi in x]\n",
    "plt.plot(x, np.absolute(psi[-1])**2)\n",
    "plt.plot(x,pot_func_values)\n",
    "plt.ylim(0, max(np.absolute(psi[-1])**2)*1.5)\n",
    "plt.show()"
   ]
  },
  {
   "cell_type": "code",
   "execution_count": 31,
   "metadata": {},
   "outputs": [
    {
     "name": "stdout",
     "output_type": "stream",
     "text": [
      "(100000, 300)\n",
      "<class 'numpy.ndarray'>\n"
     ]
    }
   ],
   "source": [
    "print(psi.shape)\n",
    "print(type(psi))"
   ]
  },
  {
   "cell_type": "code",
   "execution_count": 32,
   "metadata": {},
   "outputs": [],
   "source": [
    "# def animate(i):\n",
    "#     ln1.set_data(x, np.absolute(psi[100*i])**2)\n",
    "     \n",
    "#     time_text.set_text('$(10^4 mL^2)^{-1}t=$'+'{:.1f}'.format(100*i*delta_t*1e4))\n",
    "     \n",
    "    \n",
    "# fig, ax = plt.subplots(1,1, figsize=(8,4))\n",
    "# #ax.grid()\n",
    "# ln1, = plt.plot([], [], 'r-', lw=2, markersize=8, label='fdm')\n",
    " \n",
    "# time_text = ax.text(0.65, 16, '', fontsize=15,\n",
    "#            bbox=dict(facecolor='white', edgecolor='black'))\n",
    "# ax.set_ylim(0, max(np.absolute(psi[-1])**2)*5)\n",
    "# ax.set_xlim(-2e-8,2e-8)\n",
    "# ax.set_ylabel('$|\\psi(x)|^2$', fontsize=20)\n",
    "# ax.set_xlabel('$x/L$', fontsize=20)\n",
    "# ax.legend(loc='upper left')\n",
    "# ax.set_title('$(mL^2)V(x) = -10^4 \\cdot n(x, \\mu=L/2, \\sigma=L/20)$')\n",
    "# plt.tight_layout()\n",
    "# ani = animation.FuncAnimation(fig, animate, frames=1000, interval=50)\n",
    "# ani.save('pen_1.gif',writer='pillow',fps=50,dpi=100)\n"
   ]
  }
 ],
 "metadata": {
  "kernelspec": {
   "display_name": "Python 3",
   "language": "python",
   "name": "python3"
  },
  "language_info": {
   "codemirror_mode": {
    "name": "ipython",
    "version": 3
   },
   "file_extension": ".py",
   "mimetype": "text/x-python",
   "name": "python",
   "nbconvert_exporter": "python",
   "pygments_lexer": "ipython3",
   "version": "3.8.5"
  }
 },
 "nbformat": 4,
 "nbformat_minor": 5
}
